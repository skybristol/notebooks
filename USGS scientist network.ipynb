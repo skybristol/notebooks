{
 "cells": [
  {
   "cell_type": "markdown",
   "metadata": {},
   "source": [
    "Quick and dirty look at how we might examine personnel affiliations in USGS via co-authorship of papers and data."
   ]
  },
  {
   "cell_type": "code",
   "execution_count": 1,
   "metadata": {},
   "outputs": [],
   "source": [
    "import requests"
   ]
  },
  {
   "cell_type": "code",
   "execution_count": 2,
   "metadata": {},
   "outputs": [],
   "source": [
    "subject_email = \"sbristol@usgs.gov\"\n",
    "r_url = f\"https://pubs.er.usgs.gov/pubs-services/publication?contributor={subject_email}\"\n",
    "\n",
    "r = requests.get(r_url).json()"
   ]
  },
  {
   "cell_type": "code",
   "execution_count": 3,
   "metadata": {},
   "outputs": [
    {
     "data": {
      "text/plain": [
       "['WMA - Integrated Modeling and Prediction Division',\n",
       " 'Alaska Science Center Water',\n",
       " 'International Water Resources Branch',\n",
       " 'Columbia Environmental Research Center',\n",
       " 'Central Energy Resources Science Center',\n",
       " 'Department of Civil and Environmental Engineering, Northwestern University, Evanston, Illinois, USA',\n",
       " 'National Oceanic and Atmospheric Administration, National Centers for Coastal Ocean Science',\n",
       " 'National Wetlands Research Center',\n",
       " 'Federal Geographic Data Committee',\n",
       " 'Fort Collins Science Center',\n",
       " 'National Park Service',\n",
       " 'Office of the Chief Scientist for National Hazards',\n",
       " 'Volcano Hazards Program',\n",
       " 'WMA - Earth System Processes Division',\n",
       " 'Central Mineral and Environmental Resources Science Center',\n",
       " 'National Research Program - Western Branch',\n",
       " 'McGill University',\n",
       " 'Patuxent Wildlife Research Center',\n",
       " 'U.S. Geological Survey',\n",
       " 'National Water Quality Assessment Program',\n",
       " 'Utah State University',\n",
       " 'Pacific Island Ecosystems Research Center',\n",
       " 'Western Fisheries Research Center',\n",
       " 'Geology, Minerals, Energy, and Geophysics Science Center',\n",
       " 'Northern Prairie Wildlife Research Center',\n",
       " 'Rehabilitation Manager, Ely Field Office, BLM',\n",
       " 'New Jersey Water Science Center',\n",
       " 'National Phenology Network',\n",
       " 'Bureau of Ocean Energy Management',\n",
       " 'Cooperative Institute for Research in Environmental Sciences (CIRES), University of Colorado',\n",
       " 'WMA - Integrated Information and Dissemination Division',\n",
       " 'National Wildlife Health Center',\n",
       " 'Maryland Water Science Center',\n",
       " 'Crustal Geophysics and Geochemistry Science Center',\n",
       " 'Toxics Substances Hydrology Program',\n",
       " 'Earth Resources Observation and Science (EROS) Center (Geography)',\n",
       " 'Wetland and Aquatic Research Center',\n",
       " 'Denver Federal Center',\n",
       " 'Office of the AD Administration and Enterprise Information',\n",
       " 'Science and Decisions Center',\n",
       " 'Office of Land Remote Sensing (Geography)',\n",
       " 'Pacific Coastal and Marine Science Center',\n",
       " 'Data Preservation Program',\n",
       " 'National Minerals Information Center',\n",
       " 'Western Geographic Science Center',\n",
       " 'Geosciences and Environmental Change Science Center',\n",
       " 'Volcano Science Center',\n",
       " 'Center for Integrated Data Analytics',\n",
       " 'National Center for Atmospheric Research',\n",
       " 'Woods Hole Coastal and Marine Science Center',\n",
       " 'Brigham Young University',\n",
       " 'WY-MT Water Science Center',\n",
       " 'Southeast Ecological Science Center',\n",
       " 'Earth Resources Observation and Science (EROS) Center',\n",
       " 'Northern Rocky Mountain Science Center',\n",
       " 'National Climate Adaptation Science Center',\n",
       " 'National Center',\n",
       " 'Office of Water Quality',\n",
       " 'Colorado Cooperative Fish and Wildlife Research Unit, Fort Collins, CO',\n",
       " 'U.S. Fish and Wildlife Service, Alaska Maritime National Wildlife Refuge',\n",
       " 'Alaska Science Center',\n",
       " 'Leetown Science Center',\n",
       " 'Bureau of Land Management, Washington DC',\n",
       " 'Geologic Hazards Science Center',\n",
       " 'Coastal and Marine Geology Program',\n",
       " 'National Research Program - Central Branch',\n",
       " 'Wisconsin Water Science Center',\n",
       " 'Western Ecological Research Center',\n",
       " 'American Rivers',\n",
       " \"Northeast Regional Director's Office\",\n",
       " 'National Water Quality Program',\n",
       " 'Coop Res Unit Seattle',\n",
       " 'Office of Water Information',\n",
       " 'Western EcoSystems Technology, Inc',\n",
       " 'Upper Midwest Environmental Sciences Center',\n",
       " 'Core Science Analytics and Synthesis',\n",
       " 'National Oceanic and Atmospheric Administration, National Marine',\n",
       " 'Office of the AD Energy and Minerals, and Environmental Health',\n",
       " 'Alaska Science Center Biology MFEB',\n",
       " 'Office of the AD Hazards',\n",
       " 'Toxic Substances Hydrology Program',\n",
       " 'National Research Program - Eastern Branch',\n",
       " 'California Water Science Center',\n",
       " 'Southeast Climate Science Center',\n",
       " 'Southwest Biological Science Center',\n",
       " 'Minnesota Water Science Center',\n",
       " 'U.S. Fish and Wildlife Sevice',\n",
       " 'Office of the AD Ecosystems',\n",
       " 'St. Petersburg Coastal and Marine Science Center',\n",
       " 'Kansas Water Science Center']"
      ]
     },
     "metadata": {},
     "output_type": "display_data"
    }
   ],
   "source": [
    "coauthor_affiliations = list()\n",
    "for item in r[\"records\"]:\n",
    "    for author in item[\"contributors\"][\"authors\"]:\n",
    "        for affiliation in author[\"affiliations\"]:\n",
    "            coauthor_affiliations.append(affiliation[\"text\"])\n",
    "            \n",
    "coauthor_affiliations = list(set(coauthor_affiliations))\n",
    "display(coauthor_affiliations)"
   ]
  },
  {
   "cell_type": "code",
   "execution_count": null,
   "metadata": {},
   "outputs": [],
   "source": []
  }
 ],
 "metadata": {
  "kernelspec": {
   "display_name": "Python 3",
   "language": "python",
   "name": "python3"
  },
  "language_info": {
   "codemirror_mode": {
    "name": "ipython",
    "version": 3
   },
   "file_extension": ".py",
   "mimetype": "text/x-python",
   "name": "python",
   "nbconvert_exporter": "python",
   "pygments_lexer": "ipython3",
   "version": "3.7.4"
  }
 },
 "nbformat": 4,
 "nbformat_minor": 2
}
