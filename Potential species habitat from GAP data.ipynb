{
 "cells": [
  {
   "cell_type": "markdown",
   "metadata": {},
   "source": [
    "The following is kind of goofy code at this point, but it represents the only fully online and queryable way I know about to get access to the essential \"habitat\" data derived from GAP species habitat maps. The underlying associated of species with ecological systems (lowest level of classification in the USNVC as applied to a map) was included with each of the species habitat map base items in ScienceBase. So, it's possible to run a search from species name to programmatically return this information, though it's not really a workable system at any scale. This just shows how to do it from start to finish in a way that could be run in any kind of codebase. It relies on HTTP calls to search the ScienceBase Catalog API and retrieve a JSON file containing the data. The properties in that file came directly from the backend database used in the GAP species modeling work that they refer to as the Wildlife Habitat Relationship Database. To further do something with these ecological system connections would require identifier mapping and resolution back through the 2001 version represented in these records through to today. That mapping also exists in GAP data systems but it is not exposed anywhere to my knowledge."
   ]
  },
  {
   "cell_type": "code",
   "execution_count": 1,
   "metadata": {},
   "outputs": [],
   "source": [
    "import requests"
   ]
  },
  {
   "cell_type": "code",
   "execution_count": 2,
   "metadata": {},
   "outputs": [],
   "source": [
    "species_name = \"Buteo regalis\"\n",
    "sb_search_url = f\"https://www.sciencebase.gov/catalog/items?q={species_name}&parentId=527d0a83e4b0850ea0518326&max=20&format=json&fields=files\"\n",
    "sb_results = requests.get(sb_search_url).json()"
   ]
  },
  {
   "cell_type": "code",
   "execution_count": 4,
   "metadata": {},
   "outputs": [],
   "source": [
    "habitat_data_file = next((f for f in sb_results[\"items\"][0][\"files\"] if f[\"title\"] == \"Machine Readable Habitat Database Parameters\"), None)"
   ]
  },
  {
   "cell_type": "code",
   "execution_count": 5,
   "metadata": {},
   "outputs": [
    {
     "data": {
      "text/plain": [
       "{'size': 47828,\n",
       " 'dateUploaded': '2017-11-06T19:01:09.000Z',\n",
       " 'name': 'bFEHAx_CONUS_HabModel_2001v1.json',\n",
       " 'downloadUri': 'https://www.sciencebase.gov/catalog/file/get/58fa4a9ee4b0b7ea54524f7a?f=__disk__7d%2F5d%2Fce%2F7d5dce0470d99d5e26c14e7fc2d65f7e0d41aed3',\n",
       " 'pathOnDisk': '__disk__7d/5d/ce/7d5dce0470d99d5e26c14e7fc2d65f7e0d41aed3',\n",
       " 'title': 'Machine Readable Habitat Database Parameters',\n",
       " 'contentType': 'application/json',\n",
       " 'url': 'https://www.sciencebase.gov/catalog/file/get/58fa4a9ee4b0b7ea54524f7a?f=__disk__7d%2F5d%2Fce%2F7d5dce0470d99d5e26c14e7fc2d65f7e0d41aed3'}"
      ]
     },
     "execution_count": 5,
     "metadata": {},
     "output_type": "execute_result"
    }
   ],
   "source": [
    "habitat_data_file"
   ]
  },
  {
   "cell_type": "code",
   "execution_count": 6,
   "metadata": {},
   "outputs": [],
   "source": [
    "habitat_data = requests.get(habitat_data_file[\"url\"]).json()"
   ]
  },
  {
   "cell_type": "code",
   "execution_count": 31,
   "metadata": {},
   "outputs": [],
   "source": [
    "ecological_systems = list()\n",
    "for k, v in habitat_data[\"models\"].items():\n",
    "    ecological_systems.extend([i[1] for i in v[\"PrimEcoSys\"]])\n",
    "ecological_systems = list(set(ecological_systems))"
   ]
  },
  {
   "cell_type": "code",
   "execution_count": 32,
   "metadata": {},
   "outputs": [
    {
     "data": {
      "text/plain": [
       "['Apacherian-Chihuahuan Semi-Desert Grassland and Steppe',\n",
       " 'Introduced Upland Vegetation - Annual Grassland',\n",
       " 'Inter-Mountain Basins Cliff and Canyon',\n",
       " 'Chihuahuan Loamy Plains Desert Grassland',\n",
       " 'California Northern Coastal Grassland',\n",
       " 'Columbia Basin Palouse Prairie',\n",
       " 'Mediterranean California Serpentine Fen',\n",
       " 'Sierra Nevada Cliff and Canyon',\n",
       " 'Chihuahuan Mixed Desert and Thorn Scrub',\n",
       " 'Columbia Plateau Scabland Shrubland',\n",
       " 'Chihuahuan Succulent Desert Scrub',\n",
       " 'Mediterranean California Serpentine Barrens',\n",
       " 'Utility Swath - Herbaceous',\n",
       " 'Inter-Mountain Basins Mat Saltbush Shrubland',\n",
       " 'Colorado Plateau Mixed Low Sagebrush Shrubland',\n",
       " 'North-Central Interior Sand and Gravel Tallgrass Prairie',\n",
       " 'North American Warm Desert Bedrock Cliff and Outcrop',\n",
       " 'Mojave Mid-Elevation Mixed Desert Scrub',\n",
       " 'Inter-Mountain Basins Interdunal Swale Wetland',\n",
       " 'Western Great Plains Foothill and Piedmont Grassland',\n",
       " 'Recently Burned Grassland',\n",
       " 'Northwestern Great Plains Shrubland',\n",
       " 'Inter-Mountain Basins Shale Badland',\n",
       " 'Mediterranean California Northern Coastal Dune',\n",
       " 'Western Great Plains Depressional Wetland Systems',\n",
       " 'Colorado Plateau Mixed Bedrock Canyon and Tableland',\n",
       " 'Inter-Mountain Basins Active and Stabilized Dune',\n",
       " 'Northwestern Great Plains Mixedgrass Prairie',\n",
       " 'Columbia Plateau Low Sagebrush Steppe',\n",
       " 'Inter-Mountain Basins Semi-Desert Grassland',\n",
       " 'Western Great Plains Badland',\n",
       " 'Willamette Valley Upland Prairie and Savanna',\n",
       " 'Tamaulipan Clay Grassland',\n",
       " 'North American Warm Desert Wash',\n",
       " 'Tamaulipan Savanna Grassland',\n",
       " 'Klamath-Siskiyou Xeromorphic Serpentine Savanna and Chaparral',\n",
       " 'California Mesic Serpentine Grassland',\n",
       " 'Columbia Plateau Western Juniper Woodland and Savanna',\n",
       " 'Developed, Open Space',\n",
       " 'Western Great Plains Closed Depression Wetland',\n",
       " 'Mediterranean California Coastal Bluff',\n",
       " 'Chihuahuan Mixed Salt Desert Scrub',\n",
       " 'Southern Rocky Mountain Juniper Woodland and Savanna',\n",
       " 'West Gulf Coastal Plain Southern Calcareous Prairie',\n",
       " 'Southwestern Great Plains Canyon',\n",
       " 'Columbia Plateau Steppe and Grassland',\n",
       " 'Chihuahuan Gypsophilous Grassland and Steppe',\n",
       " 'Inter-Mountain Basins Montane Sagebrush Steppe',\n",
       " 'Western Great Plains Saline Depression Wetland',\n",
       " 'Klamath-Siskiyou Cliff and Outcrop',\n",
       " 'Madrean Juniper Savanna',\n",
       " 'Northern Rocky Mountain Lower Montane, Foothill and Valley Grassland',\n",
       " 'Columbia Plateau Ash and Tuff Badland',\n",
       " 'Recently Burned Shrubland',\n",
       " 'Pasture/Hay',\n",
       " 'Inter-Mountain Basins Juniper Savanna',\n",
       " 'Southern California Coast Ranges Cliff and Canyon',\n",
       " 'Inter-Mountain Basins Big Sagebrush Steppe',\n",
       " 'Great Plains Prairie Pothole',\n",
       " 'Inter-Mountain Basins Greasewood Flat',\n",
       " 'North American Arid West Emergent Marsh',\n",
       " 'West Gulf Coastal Plain Northern Calcareous Prairie',\n",
       " 'Columbia Plateau Silver Sagebrush Seasonally Flooded Shrub-Steppe',\n",
       " 'Columbia Basin Foothill and Canyon Dry Grassland',\n",
       " 'Rocky Mountain Cliff, Canyon and Massive Bedrock',\n",
       " 'Western Great Plains Mesquite Woodland and Shrubland',\n",
       " 'Inter-Mountain Basins Semi-Desert Shrub Steppe',\n",
       " 'Central Tallgrass Prairie',\n",
       " 'Inter-Mountain Basins Alkaline Closed Depression',\n",
       " 'Inter-Mountain Basins Big Sagebrush Shrubland',\n",
       " 'Inter-Mountain Basins Playa',\n",
       " 'Chihuahuan Sandy Plains Semi-Desert Grassland',\n",
       " 'Southern Rocky Mountain Ponderosa Pine Savanna',\n",
       " 'Inter-Mountain Basins Wash',\n",
       " 'Western Great Plains Shortgrass Prairie',\n",
       " 'Sonora-Mojave Mixed Salt Desert Scrub',\n",
       " 'Central Mixedgrass Prairie',\n",
       " 'Introduced Upland Vegetation - Perennial Grassland',\n",
       " 'Southern California Coastal Scrub',\n",
       " 'Western Great Plains Open Freshwater Depression Wetland',\n",
       " 'Mediterranean California Southern Coastal Dune',\n",
       " 'Chihuahuan Stabilized Coppice Dune and Sand Flat Scrub',\n",
       " 'Western Great Plains Sand Prairie',\n",
       " 'Western Great Plains Cliff and Outcrop',\n",
       " 'Great Basin Xeric Mixed Sagebrush Shrubland',\n",
       " 'Columbia Plateau Vernal Pool',\n",
       " 'Introduced Upland Vegetation - Perennial Grassland and Forbland',\n",
       " 'Western Great Plains Tallgrass Prairie',\n",
       " 'Chihuahuan-Sonoran Desert Bottomland and Swale Grassland',\n",
       " 'Western Great Plains Sandhill Steppe',\n",
       " 'California Central Valley and Southern Coastal Grassland',\n",
       " 'Eastern Great Plains Wet Meadow, Prairie, and Marsh',\n",
       " 'Wyoming Basins Dwarf Sagebrush Shrubland and Steppe',\n",
       " 'Apacherian-Chihuahuan Mesquite Upland Scrub',\n",
       " 'Inter-Mountain Basins Mixed Salt Desert Scrub']"
      ]
     },
     "execution_count": 32,
     "metadata": {},
     "output_type": "execute_result"
    }
   ],
   "source": [
    "ecological_systems"
   ]
  },
  {
   "cell_type": "code",
   "execution_count": null,
   "metadata": {},
   "outputs": [],
   "source": []
  }
 ],
 "metadata": {
  "kernelspec": {
   "display_name": "Python 3",
   "language": "python",
   "name": "python3"
  },
  "language_info": {
   "codemirror_mode": {
    "name": "ipython",
    "version": 3
   },
   "file_extension": ".py",
   "mimetype": "text/x-python",
   "name": "python",
   "nbconvert_exporter": "python",
   "pygments_lexer": "ipython3",
   "version": "3.8.2"
  }
 },
 "nbformat": 4,
 "nbformat_minor": 4
}
